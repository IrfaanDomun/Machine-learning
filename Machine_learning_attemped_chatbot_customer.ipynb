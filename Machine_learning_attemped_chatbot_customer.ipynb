{
 "cells": [
  {
   "cell_type": "markdown",
   "metadata": {},
   "source": [
    "http://jmcauley.ucsd.edu/data/amazon/qa/\n",
    "# Description\n",
    "\n",
    "This dataset contains Question and Answer data from Amazon, totaling around 1.4 million answered questions.\n",
    "\n",
    "This dataset can be combined with Amazon product review data, available here, by matching ASINs in the Q/A dataset with ASINs in the review data. The review data also includes product metadata (product titles etc.).\n",
    "## Files\n",
    "Sample question (and answer):\n",
    "\n",
    "{\n",
    "  \"asin\": \"B000050B6Z\",\n",
    "  \"questionType\": \"yes/no\",\n",
    "  \"answerType\": \"Y\",\n",
    "  \"answerTime\": \"Aug 8, 2014\",\n",
    "  \"unixTime\": 1407481200,\n",
    "  \"question\": \"Can you use this unit with GEL shaving cans?\",\n",
    "  \"answer\": \"Yes. If the can fits in the machine it will despense hot gel lather. I've been using my machine for both , gel and traditional lather for over 10 years.\"\n",
    "}\n",
    "\n",
    "## where\n",
    "\n",
    "    asin - ID of the product, e.g. B000050B6Z\n",
    "    questionType - type of question. Could be 'yes/no' or 'open-ended'\n",
    "    answerType - type of answer. Could be 'Y', 'N', or '?' (if the polarity of the answer could not be predicted). Only present for yes/no questions.\n",
    "    answerTime - raw answer timestamp\n",
    "    unixTime - answer timestamp converted to unix time\n",
    "    question - question text\n",
    "    answer - answer text\n"
   ]
  },
  {
   "cell_type": "code",
   "execution_count": 1,
   "metadata": {
    "collapsed": false
   },
   "outputs": [],
   "source": [
    "import pandas as pd\n",
    "import json\n",
    "import ngram\n",
    "import sklearn\n",
    "#import matplotlib.pyplot as plt\n",
    "import numpy as np\n",
    "from sklearn.cross_validation import train_test_split\n",
    "from sklearn.tree import DecisionTreeClassifier, export_graphviz\n",
    "import math\n",
    "import os\n",
    "import subprocess"
   ]
  },
  {
   "cell_type": "markdown",
   "metadata": {},
   "source": [
    "# Loading the data"
   ]
  },
  {
   "cell_type": "code",
   "execution_count": 2,
   "metadata": {
    "collapsed": true
   },
   "outputs": [],
   "source": [
    "a = open('C:\\Users\\i\\Downloads\\qa_Software.json') .read()"
   ]
  },
  {
   "cell_type": "code",
   "execution_count": 3,
   "metadata": {
    "collapsed": true
   },
   "outputs": [],
   "source": [
    "b = a.replace(\"{\",\"\").split(\"}\")"
   ]
  },
  {
   "cell_type": "code",
   "execution_count": 4,
   "metadata": {
    "collapsed": false,
    "scrolled": true
   },
   "outputs": [],
   "source": [
    "\"\"\"\n",
    "    loading the json file as a dict so we can put it easily into a DataFrame\n",
    "\"\"\"\n",
    "c = []\n",
    "for i in b:\n",
    "    try:\n",
    "        if i[-1] !='\\'':\n",
    "            i = i + \"'\"\n",
    "        c.append(eval(\"{\"+i +\"}\"))\n",
    "        #print i[-1],'\\n****'\n",
    "    except:\n",
    "        pass#print \"{\"+i +\"}\",'\\n-----------------------'"
   ]
  },
  {
   "cell_type": "code",
   "execution_count": 5,
   "metadata": {
    "collapsed": false
   },
   "outputs": [],
   "source": [
    "d = pd.DataFrame(c)"
   ]
  },
  {
   "cell_type": "code",
   "execution_count": 6,
   "metadata": {
    "collapsed": false
   },
   "outputs": [
    {
     "data": {
      "text/html": [
       "<div>\n",
       "<table border=\"1\" class=\"dataframe\">\n",
       "  <thead>\n",
       "    <tr style=\"text-align: right;\">\n",
       "      <th></th>\n",
       "      <th>answer</th>\n",
       "      <th>answerTime</th>\n",
       "      <th>answerType</th>\n",
       "      <th>asin</th>\n",
       "      <th>question</th>\n",
       "      <th>questionType</th>\n",
       "      <th>unixTime</th>\n",
       "    </tr>\n",
       "  </thead>\n",
       "  <tbody>\n",
       "    <tr>\n",
       "      <th>0</th>\n",
       "      <td>Yes</td>\n",
       "      <td>Aug 11, 2013</td>\n",
       "      <td>Y</td>\n",
       "      <td>0439381673</td>\n",
       "      <td>I have Windows 8, Will this work on my computer?</td>\n",
       "      <td>yes/no</td>\n",
       "      <td>1.376204e+09</td>\n",
       "    </tr>\n",
       "    <tr>\n",
       "      <th>1</th>\n",
       "      <td>I used it with a pc. So, I have no idea. I hop...</td>\n",
       "      <td>Aug 11, 2014</td>\n",
       "      <td>NaN</td>\n",
       "      <td>0439381673</td>\n",
       "      <td>It says above platform Mac, but I see in the q...</td>\n",
       "      <td>open-ended</td>\n",
       "      <td>1.407740e+09</td>\n",
       "    </tr>\n",
       "    <tr>\n",
       "      <th>2</th>\n",
       "      <td>No it has to have a Mac that runs on power pc ...</td>\n",
       "      <td>Sep 24, 2014</td>\n",
       "      <td>N</td>\n",
       "      <td>0439381673</td>\n",
       "      <td>Will this work for Mac OS X?</td>\n",
       "      <td>yes/no</td>\n",
       "      <td>1.411542e+09</td>\n",
       "    </tr>\n",
       "    <tr>\n",
       "      <th>3</th>\n",
       "      <td>Hi T.Lee, I have not had any trouble running t...</td>\n",
       "      <td>May 23, 2014</td>\n",
       "      <td>?</td>\n",
       "      <td>0439381673</td>\n",
       "      <td>I have Windows7, Will this work on my computer?</td>\n",
       "      <td>yes/no</td>\n",
       "      <td>1.400828e+09</td>\n",
       "    </tr>\n",
       "    <tr>\n",
       "      <th>4</th>\n",
       "      <td>Yes! :P</td>\n",
       "      <td>Apr 13, 2014</td>\n",
       "      <td>Y</td>\n",
       "      <td>0439381673</td>\n",
       "      <td>Will this work on Windows XP?</td>\n",
       "      <td>yes/no</td>\n",
       "      <td>1.397372e+09</td>\n",
       "    </tr>\n",
       "  </tbody>\n",
       "</table>\n",
       "</div>"
      ],
      "text/plain": [
       "                                              answer    answerTime answerType  \\\n",
       "0                                                Yes  Aug 11, 2013          Y   \n",
       "1  I used it with a pc. So, I have no idea. I hop...  Aug 11, 2014        NaN   \n",
       "2  No it has to have a Mac that runs on power pc ...  Sep 24, 2014          N   \n",
       "3  Hi T.Lee, I have not had any trouble running t...  May 23, 2014          ?   \n",
       "4                                            Yes! :P  Apr 13, 2014          Y   \n",
       "\n",
       "         asin                                           question questionType  \\\n",
       "0  0439381673   I have Windows 8, Will this work on my computer?       yes/no   \n",
       "1  0439381673  It says above platform Mac, but I see in the q...   open-ended   \n",
       "2  0439381673                       Will this work for Mac OS X?       yes/no   \n",
       "3  0439381673    I have Windows7, Will this work on my computer?       yes/no   \n",
       "4  0439381673                      Will this work on Windows XP?       yes/no   \n",
       "\n",
       "       unixTime  \n",
       "0  1.376204e+09  \n",
       "1  1.407740e+09  \n",
       "2  1.411542e+09  \n",
       "3  1.400828e+09  \n",
       "4  1.397372e+09  "
      ]
     },
     "execution_count": 6,
     "metadata": {},
     "output_type": "execute_result"
    }
   ],
   "source": [
    "d.head()"
   ]
  },
  {
   "cell_type": "markdown",
   "metadata": {},
   "source": [
    "# Cleaning the data"
   ]
  },
  {
   "cell_type": "code",
   "execution_count": 7,
   "metadata": {
    "collapsed": false
   },
   "outputs": [
    {
     "name": "stdout",
     "output_type": "stream",
     "text": [
      "answer           object\n",
      "answerTime       object\n",
      "answerType       object\n",
      "asin             object\n",
      "question         object\n",
      "questionType     object\n",
      "unixTime        float64\n",
      "dtype: object \n",
      "\n"
     ]
    }
   ],
   "source": [
    "print d.dtypes,\"\\n\""
   ]
  },
  {
   "cell_type": "code",
   "execution_count": 8,
   "metadata": {
    "collapsed": false
   },
   "outputs": [
    {
     "name": "stdout",
     "output_type": "stream",
     "text": [
      "set(['Y', nan, '?', 'N'])\n",
      "set(['open-ended', 'yes/no'])\n"
     ]
    }
   ],
   "source": [
    "\"\"\"\n",
    "    Look for nans\n",
    "\"\"\"\n",
    "print set(d.answerType)\n",
    "print set(d.questionType)"
   ]
  },
  {
   "cell_type": "code",
   "execution_count": 9,
   "metadata": {
    "collapsed": false
   },
   "outputs": [],
   "source": [
    "d.answerType = d.answerType.apply(lambda x: \"nan\" if x == np.nan else x)"
   ]
  },
  {
   "cell_type": "code",
   "execution_count": 10,
   "metadata": {
    "collapsed": false
   },
   "outputs": [
    {
     "data": {
      "text/plain": [
       "True"
      ]
     },
     "execution_count": 10,
     "metadata": {},
     "output_type": "execute_result"
    }
   ],
   "source": [
    "np.isnan(d.loc[1].answerType )"
   ]
  },
  {
   "cell_type": "code",
   "execution_count": 11,
   "metadata": {
    "collapsed": false
   },
   "outputs": [
    {
     "name": "stdout",
     "output_type": "stream",
     "text": [
      "set([False])\n",
      "set([False, True])\n"
     ]
    }
   ],
   "source": [
    "print set(d.isnull().question)\n",
    "print set(d.isnull().answer)"
   ]
  },
  {
   "cell_type": "code",
   "execution_count": 12,
   "metadata": {
    "collapsed": false
   },
   "outputs": [
    {
     "name": "stdout",
     "output_type": "stream",
     "text": [
      "5\n"
     ]
    }
   ],
   "source": [
    "\"\"\"\n",
    "    See if we can afford to just drop them\n",
    "\"\"\"\n",
    "print len([ i for i in d.isnull().answer if i ])"
   ]
  },
  {
   "cell_type": "code",
   "execution_count": 13,
   "metadata": {
    "collapsed": false
   },
   "outputs": [],
   "source": [
    "\"\"\"\n",
    "    drop line of nan in answer since they can not be exploit\n",
    "\"\"\"\n",
    "d = d[ [ type(i) != type(1.0) for i in d.answer ] ]"
   ]
  },
  {
   "cell_type": "code",
   "execution_count": 14,
   "metadata": {
    "collapsed": false
   },
   "outputs": [],
   "source": [
    "data = d[[\"answer\",\"question\",\"questionType\",\"answerType\"]]"
   ]
  },
  {
   "cell_type": "code",
   "execution_count": 15,
   "metadata": {
    "collapsed": false
   },
   "outputs": [
    {
     "data": {
      "text/html": [
       "<div>\n",
       "<table border=\"1\" class=\"dataframe\">\n",
       "  <thead>\n",
       "    <tr style=\"text-align: right;\">\n",
       "      <th></th>\n",
       "      <th>answer</th>\n",
       "      <th>question</th>\n",
       "      <th>questionType</th>\n",
       "      <th>answerType</th>\n",
       "    </tr>\n",
       "  </thead>\n",
       "  <tbody>\n",
       "    <tr>\n",
       "      <th>0</th>\n",
       "      <td>Yes</td>\n",
       "      <td>I have Windows 8, Will this work on my computer?</td>\n",
       "      <td>yes/no</td>\n",
       "      <td>Y</td>\n",
       "    </tr>\n",
       "    <tr>\n",
       "      <th>1</th>\n",
       "      <td>I used it with a pc. So, I have no idea. I hop...</td>\n",
       "      <td>It says above platform Mac, but I see in the q...</td>\n",
       "      <td>open-ended</td>\n",
       "      <td>NaN</td>\n",
       "    </tr>\n",
       "    <tr>\n",
       "      <th>2</th>\n",
       "      <td>No it has to have a Mac that runs on power pc ...</td>\n",
       "      <td>Will this work for Mac OS X?</td>\n",
       "      <td>yes/no</td>\n",
       "      <td>N</td>\n",
       "    </tr>\n",
       "    <tr>\n",
       "      <th>3</th>\n",
       "      <td>Hi T.Lee, I have not had any trouble running t...</td>\n",
       "      <td>I have Windows7, Will this work on my computer?</td>\n",
       "      <td>yes/no</td>\n",
       "      <td>?</td>\n",
       "    </tr>\n",
       "    <tr>\n",
       "      <th>4</th>\n",
       "      <td>Yes! :P</td>\n",
       "      <td>Will this work on Windows XP?</td>\n",
       "      <td>yes/no</td>\n",
       "      <td>Y</td>\n",
       "    </tr>\n",
       "  </tbody>\n",
       "</table>\n",
       "</div>"
      ],
      "text/plain": [
       "                                              answer  \\\n",
       "0                                                Yes   \n",
       "1  I used it with a pc. So, I have no idea. I hop...   \n",
       "2  No it has to have a Mac that runs on power pc ...   \n",
       "3  Hi T.Lee, I have not had any trouble running t...   \n",
       "4                                            Yes! :P   \n",
       "\n",
       "                                            question questionType answerType  \n",
       "0   I have Windows 8, Will this work on my computer?       yes/no          Y  \n",
       "1  It says above platform Mac, but I see in the q...   open-ended        NaN  \n",
       "2                       Will this work for Mac OS X?       yes/no          N  \n",
       "3    I have Windows7, Will this work on my computer?       yes/no          ?  \n",
       "4                      Will this work on Windows XP?       yes/no          Y  "
      ]
     },
     "execution_count": 15,
     "metadata": {},
     "output_type": "execute_result"
    }
   ],
   "source": [
    "data.head()"
   ]
  },
  {
   "cell_type": "markdown",
   "metadata": {},
   "source": [
    "# Transform"
   ]
  },
  {
   "cell_type": "code",
   "execution_count": 16,
   "metadata": {
    "collapsed": false
   },
   "outputs": [],
   "source": [
    "\"\"\"\n",
    "    get the questions into the right type of data\n",
    "\"\"\"\n",
    "e = ngram.NGram(map(str,data.question))"
   ]
  },
  {
   "cell_type": "code",
   "execution_count": 19,
   "metadata": {
    "collapsed": false
   },
   "outputs": [
    {
     "name": "stdout",
     "output_type": "stream",
     "text": [
      "train 4483 \n",
      "test 2990 \n",
      "diff data/train+test 0\n"
     ]
    }
   ],
   "source": [
    "\"\"\"\n",
    "    Split into the conventional train 6  / test 4  \n",
    "\"\"\"\n",
    "train, test = train_test_split(data, test_size = 0.4)\n",
    "print \"train\",len(train),\"\\ntest\",len(test), \"\\ndiff data/train+test\",len(data)- (len(train)+len(test))"
   ]
  },
  {
   "cell_type": "code",
   "execution_count": 20,
   "metadata": {
    "collapsed": false
   },
   "outputs": [
    {
     "data": {
      "text/html": [
       "<div>\n",
       "<table border=\"1\" class=\"dataframe\">\n",
       "  <thead>\n",
       "    <tr style=\"text-align: right;\">\n",
       "      <th></th>\n",
       "      <th>answer</th>\n",
       "      <th>question</th>\n",
       "      <th>questionType</th>\n",
       "      <th>answerType</th>\n",
       "    </tr>\n",
       "  </thead>\n",
       "  <tbody>\n",
       "    <tr>\n",
       "      <th>3224</th>\n",
       "      <td>It will work with windows 8.1, but I do not us...</td>\n",
       "      <td>will this work in 8.1</td>\n",
       "      <td>yes/no</td>\n",
       "      <td>?</td>\n",
       "    </tr>\n",
       "    <tr>\n",
       "      <th>4772</th>\n",
       "      <td>As long as your server(s) are configured in th...</td>\n",
       "      <td>Can I split the CALs over two servers? That is...</td>\n",
       "      <td>open-ended</td>\n",
       "      <td>NaN</td>\n",
       "    </tr>\n",
       "    <tr>\n",
       "      <th>4776</th>\n",
       "      <td>shipped</td>\n",
       "      <td>hi is this a download after purchase or shipped?</td>\n",
       "      <td>open-ended</td>\n",
       "      <td>NaN</td>\n",
       "    </tr>\n",
       "    <tr>\n",
       "      <th>5752</th>\n",
       "      <td>the PCEye go comes with tobii gaze interaction...</td>\n",
       "      <td>what software in it</td>\n",
       "      <td>open-ended</td>\n",
       "      <td>NaN</td>\n",
       "    </tr>\n",
       "    <tr>\n",
       "      <th>307</th>\n",
       "      <td>I have never worked on Windows 8. I have not f...</td>\n",
       "      <td>I am looking for a CD-ROM for Windows 8 the on...</td>\n",
       "      <td>yes/no</td>\n",
       "      <td>N</td>\n",
       "    </tr>\n",
       "  </tbody>\n",
       "</table>\n",
       "</div>"
      ],
      "text/plain": [
       "                                                 answer  \\\n",
       "3224  It will work with windows 8.1, but I do not us...   \n",
       "4772  As long as your server(s) are configured in th...   \n",
       "4776                                            shipped   \n",
       "5752  the PCEye go comes with tobii gaze interaction...   \n",
       "307   I have never worked on Windows 8. I have not f...   \n",
       "\n",
       "                                               question questionType  \\\n",
       "3224                              will this work in 8.1       yes/no   \n",
       "4772  Can I split the CALs over two servers? That is...   open-ended   \n",
       "4776   hi is this a download after purchase or shipped?   open-ended   \n",
       "5752                                what software in it   open-ended   \n",
       "307   I am looking for a CD-ROM for Windows 8 the on...       yes/no   \n",
       "\n",
       "     answerType  \n",
       "3224          ?  \n",
       "4772        NaN  \n",
       "4776        NaN  \n",
       "5752        NaN  \n",
       "307           N  "
      ]
     },
     "execution_count": 20,
     "metadata": {},
     "output_type": "execute_result"
    }
   ],
   "source": [
    "train.head()"
   ]
  },
  {
   "cell_type": "code",
   "execution_count": 21,
   "metadata": {
    "collapsed": false
   },
   "outputs": [
    {
     "data": {
      "text/html": [
       "<div>\n",
       "<table border=\"1\" class=\"dataframe\">\n",
       "  <thead>\n",
       "    <tr style=\"text-align: right;\">\n",
       "      <th></th>\n",
       "      <th>answer</th>\n",
       "      <th>question</th>\n",
       "      <th>questionType</th>\n",
       "      <th>answerType</th>\n",
       "    </tr>\n",
       "  </thead>\n",
       "  <tbody>\n",
       "    <tr>\n",
       "      <th>4422</th>\n",
       "      <td>The manual is on-line. You'll have to search f...</td>\n",
       "      <td>Is the manual online or paperback with CD?</td>\n",
       "      <td>open-ended</td>\n",
       "      <td>NaN</td>\n",
       "    </tr>\n",
       "    <tr>\n",
       "      <th>466</th>\n",
       "      <td>Yes</td>\n",
       "      <td>Will it work with Windows 7?</td>\n",
       "      <td>yes/no</td>\n",
       "      <td>Y</td>\n",
       "    </tr>\n",
       "    <tr>\n",
       "      <th>6547</th>\n",
       "      <td>it should be, yes</td>\n",
       "      <td>does printmaster platinum v6 compatible with w...</td>\n",
       "      <td>yes/no</td>\n",
       "      <td>Y</td>\n",
       "    </tr>\n",
       "    <tr>\n",
       "      <th>6841</th>\n",
       "      <td>I cannot talk for Amazon, but if you purchase ...</td>\n",
       "      <td>Can I download the software if I am a customer...</td>\n",
       "      <td>yes/no</td>\n",
       "      <td>?</td>\n",
       "    </tr>\n",
       "    <tr>\n",
       "      <th>2036</th>\n",
       "      <td>Yes - You can use a traditional acoustic guita...</td>\n",
       "      <td>Can you use traditional acoustic guitar?</td>\n",
       "      <td>yes/no</td>\n",
       "      <td>Y</td>\n",
       "    </tr>\n",
       "  </tbody>\n",
       "</table>\n",
       "</div>"
      ],
      "text/plain": [
       "                                                 answer  \\\n",
       "4422  The manual is on-line. You'll have to search f...   \n",
       "466                                                 Yes   \n",
       "6547                                  it should be, yes   \n",
       "6841  I cannot talk for Amazon, but if you purchase ...   \n",
       "2036  Yes - You can use a traditional acoustic guita...   \n",
       "\n",
       "                                               question questionType  \\\n",
       "4422         Is the manual online or paperback with CD?   open-ended   \n",
       "466                        Will it work with Windows 7?       yes/no   \n",
       "6547  does printmaster platinum v6 compatible with w...       yes/no   \n",
       "6841  Can I download the software if I am a customer...       yes/no   \n",
       "2036           Can you use traditional acoustic guitar?       yes/no   \n",
       "\n",
       "     answerType  \n",
       "4422        NaN  \n",
       "466           Y  \n",
       "6547          Y  \n",
       "6841          ?  \n",
       "2036          Y  "
      ]
     },
     "execution_count": 21,
     "metadata": {},
     "output_type": "execute_result"
    }
   ],
   "source": [
    "test.head()"
   ]
  },
  {
   "cell_type": "markdown",
   "metadata": {},
   "source": [
    "# Matching sentences"
   ]
  },
  {
   "cell_type": "code",
   "execution_count": 49,
   "metadata": {
    "collapsed": false
   },
   "outputs": [
    {
     "data": {
      "text/plain": [
       "1.0"
      ]
     },
     "execution_count": 49,
     "metadata": {},
     "output_type": "execute_result"
    }
   ],
   "source": [
    "\"\"\"\n",
    "    Verify the behavior of NGram\n",
    "\"\"\"\n",
    "ngram.NGram.compare(\"i\",\"i\")"
   ]
  },
  {
   "cell_type": "code",
   "execution_count": 23,
   "metadata": {
    "collapsed": false
   },
   "outputs": [],
   "source": [
    "\"\"\"\n",
    "    Creating an NGram of questions as a reference\n",
    "\"\"\"\n",
    "G = ngram.NGram(map(str,train.question))"
   ]
  },
  {
   "cell_type": "code",
   "execution_count": 24,
   "metadata": {
    "collapsed": false
   },
   "outputs": [
    {
     "name": "stdout",
     "output_type": "stream",
     "text": [
      "0\n",
      "500\n",
      "1000\n",
      "1500\n",
      "2000\n",
      "2500\n"
     ]
    }
   ],
   "source": [
    "\"\"\"\n",
    "    Find the closest questions\n",
    "\"\"\"\n",
    "err = 0.0\n",
    "count = 0.0\n",
    "for index_i,i in enumerate(test.question):\n",
    "    closer_question = G.finditem(i)                                               \n",
    "    vrai = test.answer.iloc[index_i]\n",
    "    try:\n",
    "        err += 1 - ngram.NGram.compare(vrai, closer_question) #max([ngram.NGram.compare(vrai, j) for j in closer_answers]) \n",
    "    except ValueError:\n",
    "        count+=1\n",
    "        pass\n",
    "    if index_i%500 ==0:\n",
    "        print index_i    "
   ]
  },
  {
   "cell_type": "code",
   "execution_count": 25,
   "metadata": {
    "collapsed": false
   },
   "outputs": [
    {
     "name": "stdout",
     "output_type": "stream",
     "text": [
      "I have 4 license currently and need to add another. Will this work? Bob\n",
      "I am not currently a student but need SPSS for a work related research project. Will the license work for me?\n",
      "If you already have the software it might be cheaper to just call them and get another license. You can do this from within the program or call 1-866-379-6635. I am not sure, but it may be cheaper to get it from Intuit, otherwise buying another copy of the software should also work, if that is the cheaper route.\n"
     ]
    }
   ],
   "source": [
    "\"\"\"\n",
    "    Visualize the last result\n",
    "\"\"\"\n",
    "print i \n",
    "print closer_question\n",
    "print vrai"
   ]
  },
  {
   "cell_type": "code",
   "execution_count": 26,
   "metadata": {
    "collapsed": false
   },
   "outputs": [
    {
     "name": "stdout",
     "output_type": "stream",
     "text": [
      "error : 0.933377599972\n"
     ]
    }
   ],
   "source": [
    "print \"error :\",err/len(test)"
   ]
  },
  {
   "cell_type": "code",
   "execution_count": 27,
   "metadata": {
    "collapsed": false
   },
   "outputs": [
    {
     "data": {
      "text/plain": [
       "0.0"
      ]
     },
     "execution_count": 27,
     "metadata": {},
     "output_type": "execute_result"
    }
   ],
   "source": [
    "\"\"\"\n",
    "    Count the number of failed computation\n",
    "\"\"\"\n",
    "count"
   ]
  },
  {
   "cell_type": "markdown",
   "metadata": {
    "collapsed": false
   },
   "source": [
    "## We can see that's it useless to continue into that way"
   ]
  },
  {
   "cell_type": "markdown",
   "metadata": {},
   "source": [
    "# Decision Tree"
   ]
  },
  {
   "cell_type": "code",
   "execution_count": 28,
   "metadata": {
    "collapsed": false
   },
   "outputs": [
    {
     "name": "stderr",
     "output_type": "stream",
     "text": [
      "c:\\winpython-64bit-2.7.10.3\\python-2.7.10.amd64\\lib\\site-packages\\ipykernel\\__main__.py:10: FutureWarning: convert_objects is deprecated.  Use the data-type specific converters pd.to_datetime, pd.to_timedelta and pd.to_numeric.\n"
     ]
    }
   ],
   "source": [
    "from sklearn.feature_extraction import DictVectorizer\n",
    "\"\"\"\n",
    "    Create a function to create dummy features for all cathegories in answer\n",
    "\"\"\"\n",
    "def categorizeDF(df):\n",
    "    old_columns = df.columns\n",
    "    cat_cols = [\"question\"]\n",
    "    temp_dict = df[cat_cols].to_dict(orient=\"records\")\n",
    "    vec = DictVectorizer()\n",
    "    vec_arr = vec.fit_transform(temp_dict).toarray()\n",
    "    \n",
    "    new_df = pd.DataFrame(vec_arr).convert_objects(convert_numeric=True)\n",
    "    new_df.index = df.index\n",
    "    new_df.columns = vec.get_feature_names()\n",
    "    columns_to_add = [col for col in old_columns if col not in cat_cols]\n",
    "    new_df[columns_to_add] = df[columns_to_add]\n",
    "    #new_df.drop(cat_cols, inplace=True, axis=1)\n",
    "    return new_df\n",
    "\n",
    "joined_cat = categorizeDF(data)"
   ]
  },
  {
   "cell_type": "code",
   "execution_count": 29,
   "metadata": {
    "collapsed": false
   },
   "outputs": [],
   "source": [
    "\"\"\"\n",
    "    Split the dataset into an even train/tes split\n",
    "\"\"\"\n",
    "train = joined_cat._slice(slice(0, len(joined_cat)/2))\n",
    "test = joined_cat._slice(slice(len(joined_cat)/2, len(joined_cat)))"
   ]
  },
  {
   "cell_type": "code",
   "execution_count": 30,
   "metadata": {
    "collapsed": false,
    "scrolled": true
   },
   "outputs": [
    {
     "name": "stdout",
     "output_type": "stream",
     "text": [
      "['question=\"3- Piece/ 1- year \" means it can be installed on 3 pc\\'s per household for 1 year duration?', 'question=\"Nuance-certified handheld device\" -- What are they? Anyone knows where I can find a list of such?', 'question=\"printing is NOT included in this version\" what this means? I can only save as file format?', 'question=$30 rebate? Does anyone know where I can find the link to the $30 rebate that was offered when it was in the goldbox?', \"question='09 QB Problems solved? Can anyone tell me if QB has solved their '09 Pro problems?\"]\n"
     ]
    }
   ],
   "source": [
    "from sklearn.ensemble import RandomForestClassifier\n",
    "from sklearn import cross_validation\n",
    "\"\"\"\n",
    "    Chose all relevent features for the training\n",
    "\"\"\"\n",
    "Xcols = train.columns\n",
    "Xcols = list(joined_cat)[:-3]\n",
    "y = train['answer']\n",
    "print Xcols[:5]"
   ]
  },
  {
   "cell_type": "code",
   "execution_count": 41,
   "metadata": {
    "collapsed": false
   },
   "outputs": [],
   "source": [
    "\"\"\"\n",
    "    Create the classifier\n",
    "\"\"\"\n",
    "forest = RandomForestClassifier(n_estimators=70, max_features=0.1, min_samples_split=24, random_state=33, n_jobs=3)"
   ]
  },
  {
   "cell_type": "code",
   "execution_count": 42,
   "metadata": {
    "collapsed": false
   },
   "outputs": [
    {
     "data": {
      "text/plain": [
       "RandomForestClassifier(bootstrap=True, class_weight=None, criterion='gini',\n",
       "            max_depth=None, max_features=0.1, max_leaf_nodes=None,\n",
       "            min_samples_leaf=1, min_samples_split=24,\n",
       "            min_weight_fraction_leaf=0.0, n_estimators=70, n_jobs=3,\n",
       "            oob_score=False, random_state=33, verbose=0, warm_start=False)"
      ]
     },
     "execution_count": 42,
     "metadata": {},
     "output_type": "execute_result"
    }
   ],
   "source": [
    "\"\"\"\n",
    "    Fit the Classifier\n",
    "\"\"\"\n",
    "forest.fit(train[Xcols], y)"
   ]
  },
  {
   "cell_type": "code",
   "execution_count": 43,
   "metadata": {
    "collapsed": false
   },
   "outputs": [],
   "source": [
    "\"\"\"\n",
    "    Make prediction\n",
    "\"\"\"\n",
    "probsRF = forest.predict_proba(test[Xcols])[:,1]"
   ]
  },
  {
   "cell_type": "code",
   "execution_count": 44,
   "metadata": {
    "collapsed": false
   },
   "outputs": [
    {
     "data": {
      "text/plain": [
       "{0.0}"
      ]
     },
     "execution_count": 44,
     "metadata": {},
     "output_type": "execute_result"
    }
   ],
   "source": [
    "\"\"\"\n",
    "    Verifying the results\n",
    "\"\"\"\n",
    "set(probsRF)"
   ]
  },
  {
   "cell_type": "code",
   "execution_count": 46,
   "metadata": {
    "collapsed": false
   },
   "outputs": [],
   "source": [
    "\"\"\"\n",
    "    Function for visualing a tree\n",
    "\"\"\"\n",
    "def visualize_tree(tree, feature_names):\n",
    "    \"\"\"Create tree png using graphviz.\n",
    "\n",
    "    Args\n",
    "    ----\n",
    "    tree -- scikit-learn DecsisionTree.\n",
    "    feature_names -- list of feature names.\n",
    "    \"\"\"\n",
    "    with open(\"dt.dot\", 'w') as f:\n",
    "        export_graphviz(tree, out_file=f,\n",
    "                        feature_names=feature_names)\n",
    "\n",
    "    command = [\"dot\", \"-Tpng\", \"dt.dot\", \"-o\", \"dt.png\"]\n",
    "    try:\n",
    "        subprocess.check_call(command)\n",
    "    except:\n",
    "        exit(\"Could not run dot, ie graphviz, to \"\n",
    "             \"produce visualization\")"
   ]
  },
  {
   "cell_type": "code",
   "execution_count": 48,
   "metadata": {
    "collapsed": false
   },
   "outputs": [
    {
     "ename": "AttributeError",
     "evalue": "'RandomForestClassifier' object has no attribute 'tree_'",
     "output_type": "error",
     "traceback": [
      "\u001b[0;31m---------------------------------------------------------------------------\u001b[0m",
      "\u001b[0;31mAttributeError\u001b[0m                            Traceback (most recent call last)",
      "\u001b[0;32m<ipython-input-48-ea6252414da5>\u001b[0m in \u001b[0;36m<module>\u001b[0;34m()\u001b[0m\n\u001b[0;32m----> 1\u001b[0;31m \u001b[0mvisualize_tree\u001b[0m\u001b[0;34m(\u001b[0m\u001b[0mforest\u001b[0m\u001b[0;34m,\u001b[0m \u001b[0mXcols\u001b[0m\u001b[0;34m)\u001b[0m\u001b[0;34m\u001b[0m\u001b[0m\n\u001b[0m",
      "\u001b[0;32m<ipython-input-46-ba30115593ae>\u001b[0m in \u001b[0;36mvisualize_tree\u001b[0;34m(tree, feature_names)\u001b[0m\n\u001b[1;32m      9\u001b[0m     \u001b[0;32mwith\u001b[0m \u001b[0mopen\u001b[0m\u001b[0;34m(\u001b[0m\u001b[0;34m\"dt.dot\"\u001b[0m\u001b[0;34m,\u001b[0m \u001b[0;34m'w'\u001b[0m\u001b[0;34m)\u001b[0m \u001b[0;32mas\u001b[0m \u001b[0mf\u001b[0m\u001b[0;34m:\u001b[0m\u001b[0;34m\u001b[0m\u001b[0m\n\u001b[1;32m     10\u001b[0m         export_graphviz(tree, out_file=f,\n\u001b[0;32m---> 11\u001b[0;31m                         feature_names=feature_names)\n\u001b[0m\u001b[1;32m     12\u001b[0m \u001b[0;34m\u001b[0m\u001b[0m\n\u001b[1;32m     13\u001b[0m     \u001b[0mcommand\u001b[0m \u001b[0;34m=\u001b[0m \u001b[0;34m[\u001b[0m\u001b[0;34m\"dot\"\u001b[0m\u001b[0;34m,\u001b[0m \u001b[0;34m\"-Tpng\"\u001b[0m\u001b[0;34m,\u001b[0m \u001b[0;34m\"dt.dot\"\u001b[0m\u001b[0;34m,\u001b[0m \u001b[0;34m\"-o\"\u001b[0m\u001b[0;34m,\u001b[0m \u001b[0;34m\"dt.png\"\u001b[0m\u001b[0;34m]\u001b[0m\u001b[0;34m\u001b[0m\u001b[0m\n",
      "\u001b[0;32mc:\\winpython-64bit-2.7.10.3\\python-2.7.10.amd64\\lib\\site-packages\\sklearn\\tree\\export.pyc\u001b[0m in \u001b[0;36mexport_graphviz\u001b[0;34m(decision_tree, out_file, max_depth, feature_names, class_names, label, filled, leaves_parallel, impurity, node_ids, proportion, rotate, rounded, special_characters)\u001b[0m\n\u001b[1;32m    401\u001b[0m             \u001b[0mrecurse\u001b[0m\u001b[0;34m(\u001b[0m\u001b[0mdecision_tree\u001b[0m\u001b[0;34m,\u001b[0m \u001b[0;36m0\u001b[0m\u001b[0;34m,\u001b[0m \u001b[0mcriterion\u001b[0m\u001b[0;34m=\u001b[0m\u001b[0;34m\"impurity\"\u001b[0m\u001b[0;34m)\u001b[0m\u001b[0;34m\u001b[0m\u001b[0m\n\u001b[1;32m    402\u001b[0m         \u001b[0;32melse\u001b[0m\u001b[0;34m:\u001b[0m\u001b[0;34m\u001b[0m\u001b[0m\n\u001b[0;32m--> 403\u001b[0;31m             \u001b[0mrecurse\u001b[0m\u001b[0;34m(\u001b[0m\u001b[0mdecision_tree\u001b[0m\u001b[0;34m.\u001b[0m\u001b[0mtree_\u001b[0m\u001b[0;34m,\u001b[0m \u001b[0;36m0\u001b[0m\u001b[0;34m,\u001b[0m \u001b[0mcriterion\u001b[0m\u001b[0;34m=\u001b[0m\u001b[0mdecision_tree\u001b[0m\u001b[0;34m.\u001b[0m\u001b[0mcriterion\u001b[0m\u001b[0;34m)\u001b[0m\u001b[0;34m\u001b[0m\u001b[0m\n\u001b[0m\u001b[1;32m    404\u001b[0m \u001b[0;34m\u001b[0m\u001b[0m\n\u001b[1;32m    405\u001b[0m         \u001b[0;31m# If required, draw leaf nodes at same depth as each other\u001b[0m\u001b[0;34m\u001b[0m\u001b[0;34m\u001b[0m\u001b[0m\n",
      "\u001b[0;31mAttributeError\u001b[0m: 'RandomForestClassifier' object has no attribute 'tree_'"
     ]
    }
   ],
   "source": [
    "\"\"\"\n",
    "    Visualisation of the tree\n",
    "\"\"\"\n",
    "visualize_tree(forest, Xcols)"
   ]
  },
  {
   "cell_type": "code",
   "execution_count": null,
   "metadata": {
    "collapsed": true
   },
   "outputs": [],
   "source": []
  }
 ],
 "metadata": {
  "kernelspec": {
   "display_name": "Python 2",
   "language": "python",
   "name": "python2"
  },
  "language_info": {
   "codemirror_mode": {
    "name": "ipython",
    "version": 2
   },
   "file_extension": ".py",
   "mimetype": "text/x-python",
   "name": "python",
   "nbconvert_exporter": "python",
   "pygments_lexer": "ipython2",
   "version": "2.7.10"
  }
 },
 "nbformat": 4,
 "nbformat_minor": 0
}
